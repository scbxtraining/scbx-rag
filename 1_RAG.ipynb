{
 "cells": [
  {
   "cell_type": "markdown",
   "id": "1160a4ff",
   "metadata": {},
   "source": [
    "# RAG"
   ]
  },
  {
   "cell_type": "code",
   "execution_count": 1,
   "id": "f1b0085d-aa36-43c8-97b5-98cbe3988f9d",
   "metadata": {},
   "outputs": [],
   "source": [
    "import os\n",
    "import pandas as pd\n",
    "from langchain_openai import AzureChatOpenAI\n",
    "from langchain_community.utils.math import cosine_similarity\n",
    "from langchain_core.output_parsers import StrOutputParser\n",
    "from langchain_core.prompts import PromptTemplate\n",
    "from langchain_core.runnables import RunnableLambda, RunnablePassthrough\n",
    "from langchain_openai import OpenAIEmbeddings\n",
    "from langchain_community.document_loaders import PyMuPDFLoader\n",
    "from langchain.text_splitter import RecursiveCharacterTextSplitter\n",
    "from langchain_community.vectorstores import Chroma\n",
    "from langchain_openai import AzureOpenAIEmbeddings, OpenAIEmbeddings\n",
    "from langchain_openai import ChatOpenAI\n",
    "from dotenv import load_dotenv"
   ]
  },
  {
   "cell_type": "code",
   "execution_count": 2,
   "id": "c3a54566",
   "metadata": {},
   "outputs": [
    {
     "data": {
      "text/plain": [
       "False"
      ]
     },
     "execution_count": 2,
     "metadata": {},
     "output_type": "execute_result"
    }
   ],
   "source": [
    "load_dotenv(dotenv_path='../.env')"
   ]
  },
  {
   "cell_type": "markdown",
   "id": "ad16ef57",
   "metadata": {},
   "source": [
    "## Indexing"
   ]
  },
  {
   "cell_type": "markdown",
   "id": "655c0abf-7520-474f-83cf-09b52a1f94e1",
   "metadata": {},
   "source": [
    "1. Load: First we need to load our data. This is done with Document Loaders.\n",
    "2. Split: Text splitters break large Documents into smaller chunks. This is useful both for indexing data and for passing it in to a model, since large chunks are harder to search over and won't fit in a model's finite context window.\n",
    "3. Store: We need somewhere to store and index our splits, so that they can later be searched over. This is often done using a VectorStore and Embeddings model.\n",
    "\n",
    "[ref https://python.langchain.com/docs/tutorials/rag/]"
   ]
  },
  {
   "cell_type": "markdown",
   "id": "fa292002-9fa0-4904-9210-bf3476310ddb",
   "metadata": {},
   "source": [
    "![title](./imgs/index.png)"
   ]
  },
  {
   "cell_type": "markdown",
   "id": "ad48ed22-41d4-455b-9b44-3296e18b405d",
   "metadata": {},
   "source": [
    "### Load"
   ]
  },
  {
   "cell_type": "code",
   "execution_count": 3,
   "id": "9c00ae62",
   "metadata": {},
   "outputs": [
    {
     "data": {
      "text/plain": [
       "146"
      ]
     },
     "execution_count": 3,
     "metadata": {},
     "output_type": "execute_result"
    }
   ],
   "source": [
    "path = './inputs/'\n",
    "docs = []\n",
    "\n",
    "files = os.listdir(path)\n",
    "files = [x for x in files if x.endswith('.pdf')]\n",
    "\n",
    "for file in files:\n",
    "    loader = PyMuPDFLoader(f\"{path}/{file}\")\n",
    "    doc = loader.load()\n",
    "    for _ in doc:\n",
    "        additional_metadata = {\n",
    "                                \"last_modified_date\": file.split('.')[0].split('_')[1],\n",
    "                                \"document_name\": file.split('.')[0].split('_')[0],\n",
    "                            }\n",
    "        _.metadata.update(additional_metadata)\n",
    "\n",
    "    docs = docs + doc\n",
    "len(docs)"
   ]
  },
  {
   "cell_type": "markdown",
   "id": "22e61d83",
   "metadata": {},
   "source": [
    "### Split"
   ]
  },
  {
   "cell_type": "code",
   "execution_count": 4,
   "id": "7f5c4845",
   "metadata": {},
   "outputs": [
    {
     "name": "stdout",
     "output_type": "stream",
     "text": [
      "splitted texts with length: 155\n"
     ]
    }
   ],
   "source": [
    "# Chucking: Split the text into chunks\n",
    "CHUNK_SIZE = 4000\n",
    "CHUNK_OVERLAP = 200\n",
    "\n",
    "text_splitter = RecursiveCharacterTextSplitter(\n",
    "    chunk_size=CHUNK_SIZE,\n",
    "    chunk_overlap=CHUNK_OVERLAP,\n",
    "    add_start_index=True\n",
    ")\n",
    "texts = text_splitter.split_documents(docs)\n",
    "print(f\"splitted texts with length: {len(texts)}\")"
   ]
  },
  {
   "cell_type": "code",
   "execution_count": 5,
   "id": "87ee00c2-b16c-46f8-8766-b71242d3ce01",
   "metadata": {},
   "outputs": [
    {
     "data": {
      "text/plain": [
       "Document(metadata={'source': './inputs//SCBX-SR2023_ENG.pdf', 'file_path': './inputs//SCBX-SR2023_ENG.pdf', 'page': 47, 'total_pages': 146, 'format': 'PDF 1.7', 'title': '', 'author': '', 'subject': '', 'keywords': '', 'creator': 'Adobe InDesign 19.5 (Macintosh)', 'producer': 'Adobe PDF Library 17.0', 'creationDate': \"D:20240828014004+07'00'\", 'modDate': \"D:20240828014217+07'00'\", 'trapped': '', 'last_modified_date': 'ENG', 'document_name': 'SCBX-SR2023', 'start_index': 0}, page_content='SCBX BOARD OF DIRECTORS\\nTechnology Committee\\nIT Committee\\nSCBX\\nTech\\n Strategy\\nCommittee\\nCloud\\nStrategy \\nCommittee\\nData \\nStrategy \\nCommittee\\nCyber \\nStrategy \\nCommittee\\nCloud \\nCOE\\nData\\nCOE\\nCyber\\nCOE\\nAudit Committee\\nAudit Function\\nAudit Committee\\nAudit Function\\nRisk Oversight Committee\\nTechnology Risk\\nFunction\\nCompliance\\nFunction\\nRisk Management \\nCommittee\\nSUBSIDIARIES\\nRisk Oversight \\nCommittee\\nAudit Function\\nTechnology \\nRisk Function\\nBusiness Function\\nIT & Cyber \\nSecurity Function\\nTechnology\\nAudit\\nRisk Management\\nSUBSIDIARY BOARD OF DIRECTORS\\nTechnology\\nAudit\\nRisk Management\\nCYBERSECURITY AND DATA SECURITY GOVERNANCE\\n48\\n2023 SUSTAINABILITY REPORT \\nOVERVIEW\\nSPECIAL\\nREPORT\\nPLANTING\\nDIGITAL \\nSEEDS\\nENRICHING \\nLIVES\\nGROWING\\nECONOMIC \\nRESILIENCE\\nREACHING\\nCLIMATE\\nNEUTRALITY\\nFOUNDATION\\nFACTBOOK')"
      ]
     },
     "execution_count": 5,
     "metadata": {},
     "output_type": "execute_result"
    }
   ],
   "source": [
    "texts[50]"
   ]
  },
  {
   "cell_type": "code",
   "execution_count": 6,
   "id": "6f6356b0-9008-4a8b-923a-b30f3e6caf20",
   "metadata": {},
   "outputs": [
    {
     "data": {
      "text/plain": [
       "'SCBX BOARD OF DIRECTORS\\nTechnology Committee\\nIT Committee\\nSCBX\\nTech\\n Strategy\\nCommittee\\nCloud\\nStrategy \\nCommittee\\nData \\nStrategy \\nCommittee\\nCyber \\nStrategy \\nCommittee\\nCloud \\nCOE\\nData\\nCOE\\nCyber\\nCOE\\nAudit Committee\\nAudit Function\\nAudit Committee\\nAudit Function\\nRisk Oversight Committee\\nTechnology Risk\\nFunction\\nCompliance\\nFunction\\nRisk Management \\nCommittee\\nSUBSIDIARIES\\nRisk Oversight \\nCommittee\\nAudit Function\\nTechnology \\nRisk Function\\nBusiness Function\\nIT & Cyber \\nSecurity Function\\nTechnology\\nAudit\\nRisk Management\\nSUBSIDIARY BOARD OF DIRECTORS\\nTechnology\\nAudit\\nRisk Management\\nCYBERSECURITY AND DATA SECURITY GOVERNANCE\\n48\\n2023 SUSTAINABILITY REPORT \\nOVERVIEW\\nSPECIAL\\nREPORT\\nPLANTING\\nDIGITAL \\nSEEDS\\nENRICHING \\nLIVES\\nGROWING\\nECONOMIC \\nRESILIENCE\\nREACHING\\nCLIMATE\\nNEUTRALITY\\nFOUNDATION\\nFACTBOOK'"
      ]
     },
     "execution_count": 6,
     "metadata": {},
     "output_type": "execute_result"
    }
   ],
   "source": [
    "texts[50].page_content"
   ]
  },
  {
   "cell_type": "code",
   "execution_count": 7,
   "id": "bdc803bd",
   "metadata": {},
   "outputs": [
    {
     "data": {
      "text/plain": [
       "{'source': './inputs//SCBX-SR2023_ENG.pdf',\n",
       " 'file_path': './inputs//SCBX-SR2023_ENG.pdf',\n",
       " 'page': 47,\n",
       " 'total_pages': 146,\n",
       " 'format': 'PDF 1.7',\n",
       " 'title': '',\n",
       " 'author': '',\n",
       " 'subject': '',\n",
       " 'keywords': '',\n",
       " 'creator': 'Adobe InDesign 19.5 (Macintosh)',\n",
       " 'producer': 'Adobe PDF Library 17.0',\n",
       " 'creationDate': \"D:20240828014004+07'00'\",\n",
       " 'modDate': \"D:20240828014217+07'00'\",\n",
       " 'trapped': '',\n",
       " 'last_modified_date': 'ENG',\n",
       " 'document_name': 'SCBX-SR2023',\n",
       " 'start_index': 0}"
      ]
     },
     "execution_count": 7,
     "metadata": {},
     "output_type": "execute_result"
    }
   ],
   "source": [
    "texts[50].metadata"
   ]
  },
  {
   "cell_type": "code",
   "execution_count": 38,
   "id": "65c2d676-ba45-4981-917b-37afe93f2c8a",
   "metadata": {},
   "outputs": [
    {
     "data": {
      "text/plain": [
       "{'source': './inputs//SCBX-SR2023_ENG.pdf',\n",
       " 'file_path': './inputs//SCBX-SR2023_ENG.pdf',\n",
       " 'page': 4,\n",
       " 'total_pages': 146,\n",
       " 'format': 'PDF 1.7',\n",
       " 'title': '',\n",
       " 'author': '',\n",
       " 'subject': '',\n",
       " 'keywords': '',\n",
       " 'creator': 'Adobe InDesign 19.5 (Macintosh)',\n",
       " 'producer': 'Adobe PDF Library 17.0',\n",
       " 'creationDate': \"D:20240828014004+07'00'\",\n",
       " 'modDate': \"D:20240828014217+07'00'\",\n",
       " 'trapped': '',\n",
       " 'last_modified_date': 'ENG',\n",
       " 'document_name': 'SCBX-SR2023',\n",
       " 'start_index': 0}"
      ]
     },
     "execution_count": 38,
     "metadata": {},
     "output_type": "execute_result"
    }
   ],
   "source": [
    "texts[4].metadata"
   ]
  },
  {
   "cell_type": "code",
   "execution_count": 41,
   "id": "d53a3258-dded-431c-b9df-feadce17eef8",
   "metadata": {},
   "outputs": [
    {
     "data": {
      "text/plain": [
       "{'source': './inputs//SCBX-SR2023_ENG.pdf',\n",
       " 'file_path': './inputs//SCBX-SR2023_ENG.pdf',\n",
       " 'page': 4,\n",
       " 'total_pages': 146,\n",
       " 'format': 'PDF 1.7',\n",
       " 'title': '',\n",
       " 'author': '',\n",
       " 'subject': '',\n",
       " 'keywords': '',\n",
       " 'creator': 'Adobe InDesign 19.5 (Macintosh)',\n",
       " 'producer': 'Adobe PDF Library 17.0',\n",
       " 'creationDate': \"D:20240828014004+07'00'\",\n",
       " 'modDate': \"D:20240828014217+07'00'\",\n",
       " 'trapped': '',\n",
       " 'last_modified_date': 'ENG',\n",
       " 'document_name': 'SCBX-SR2023',\n",
       " 'start_index': 3820}"
      ]
     },
     "execution_count": 41,
     "metadata": {},
     "output_type": "execute_result"
    }
   ],
   "source": [
    "texts[5].metadata"
   ]
  },
  {
   "cell_type": "code",
   "execution_count": 39,
   "id": "a65dad07-71ba-40f0-a14f-9352d4186ac1",
   "metadata": {},
   "outputs": [
    {
     "data": {
      "text/plain": [
       "'Becoming an AI-First and Customer-Centric Organization to build an inclusive and sustainable \\nfinancial ecosystem, enabling all stakeholders to accererlate their climate actions.\\nSCBX Group remains steadfast in championing our sustainability mission, ‘Opportunities for \\nEveryone, Possibilities Everyday,’ guided by the strategic framework comprising 4 pillars: \\n‘Planting Digital Seeds, Enriching Lives, Growing Economic Resilience, and Achieving Climate \\nNeutrality.’ Our framework adheres to the 10 principles of the United Nations Global Compact \\nand upholds the United Nations Sustainable Development Goals (SDGs) and the Paris \\nAgreement.\\nThroughout 2023, SCBX Group has pursued its sustainability mission under the core pillar of \\n‘Planting Digital Seeds’, this endeavor entails laying  the organizational groundwork with a \\nprimary focus on building critical technology and data capabilities.  We set up the Cloud Center \\nof Excellence (CoE) and the Cyber CoE alongside the endeavor to develop the Data CoE to \\nenhance digital technology utilization across all businesses, enrich customer experience, and \\nefficiently manage risks and security. \\nUnder the pillar of ‘Enriching Lives’, SCBX Group never stops enhancing our financial solutions \\nto make finance simple, accessible, and affordable to everyone—particularly the underserved. \\nIn doing so, we harness artificial intelligence (AI) and machine learning (ML) technologies while \\nfostering financial literacy and discipline to tackle household debt and cultivate an inclusive \\nfinancial ecosystem. Furthermore, SCBX strives to empower MSMEs and startups to realize their \\nfullest potential amidst an ever-changing business landscape while supporting youth and local \\ncommunities to adapt and stay buoyant in turbulent times.\\nThe urgency of mitigating the climate crisis is intricately linked to the stability and development \\nacross multiple dimensions, which has prompted the SCBX Group to accelerate our strategies \\nand formulate both short- and long-term plans under the pillars of ‘Growing Economic Resilience’ \\nand ‘Achieving Climate Neutrality’ to fulfill our net zero commitment. In 2023, SCBX Group has \\ndelivered sustainable financial solutions of over Baht 84,000 million to assist our clients in \\ntransitioning to a low-carbon economy and drive the Group’s goal of achieving net-zero in \\nfinanced emissions by 2050. SCBX Group successfully reduced GHGs emissions from own’s \\noperations by 7% as targeted through various initiatives, such as procuring electricity from \\nrenewable sources, transitioning to electric vehicles, and installing solar panels. We stay true to \\nour commitment to mitigate operational GHGs emissions by 50% by 2027 and to achieve \\noperational net zero by 2030.\\nDR. VICHIT SURAPHONGCHAI\\nChairman of the Board of Directors\\nMR. ARTHID NANTHAWITHAYA\\nChief Executive Officer\\nOur Next Step in 2024 \\nTo stay ahead of changes, SCBX endeavors to propel business growth by enhancing service \\nefficiency and cost management. We are dedicated to advancing our technological competence, \\nfortifying financial stability, broadening financial services to all customer segments, creating \\nvalue for shareholders, and integrating environmental and social considerations into every \\naspect of our operations. At SCBX, we firmly believe a solid foundation for achieving exponential \\ngrowth must rest upon creating meaningful ‘value’ for all stakeholders. This principle guides every \\nstep we take on our journey to become the tech company of the future.\\nSCBX’s board of directors and management would like to extend our gratitude to all stakeholders \\nfor their resolute trust and steadfast support in pioneering the value-creation ecosystem.  \\nWe hereby pledge to uphold business ethics and embrace sustainability principles in paving the \\nway towards becoming ‘The Most Admired Regional Financial Technology Group.’\\n05\\n2023 SUSTAINABILITY REPORT \\nOVERVIEW\\nSPECIAL\\nREPORT\\nPLANTING\\nDIGITAL \\nSEEDS\\nENRICHING \\nLIVES\\nGROWING'"
      ]
     },
     "execution_count": 39,
     "metadata": {},
     "output_type": "execute_result"
    }
   ],
   "source": [
    "texts[4].page_content"
   ]
  },
  {
   "cell_type": "code",
   "execution_count": 40,
   "id": "e7170374-ffca-47e5-b53b-a29ed6d46adc",
   "metadata": {},
   "outputs": [
    {
     "data": {
      "text/plain": [
       "'way towards becoming ‘The Most Admired Regional Financial Technology Group.’\\n05\\n2023 SUSTAINABILITY REPORT \\nOVERVIEW\\nSPECIAL\\nREPORT\\nPLANTING\\nDIGITAL \\nSEEDS\\nENRICHING \\nLIVES\\nGROWING\\nECONOMIC \\nRESILIENCE\\nREACHING\\nCLIMATE\\nNEUTRALITY\\nFOUNDATION\\nFACTBOOK'"
      ]
     },
     "execution_count": 40,
     "metadata": {},
     "output_type": "execute_result"
    }
   ],
   "source": [
    "texts[5].page_content"
   ]
  },
  {
   "cell_type": "markdown",
   "id": "19483a00",
   "metadata": {},
   "source": [
    "### Store to Vector DB"
   ]
  },
  {
   "cell_type": "code",
   "execution_count": 8,
   "id": "6d0f9b47",
   "metadata": {},
   "outputs": [
    {
     "name": "stderr",
     "output_type": "stream",
     "text": [
      "C:\\miniconda\\envs\\scbx\\lib\\site-packages\\tqdm\\auto.py:21: TqdmWarning: IProgress not found. Please update jupyter and ipywidgets. See https://ipywidgets.readthedocs.io/en/stable/user_install.html\n",
      "  from .autonotebook import tqdm as notebook_tqdm\n",
      "C:\\miniconda\\envs\\scbx\\lib\\site-packages\\huggingface_hub\\file_download.py:139: UserWarning: `huggingface_hub` cache-system uses symlinks by default to efficiently store duplicated files but your machine does not support them in C:\\Users\\sun weiran\\.cache\\huggingface\\hub\\models--BAAI--bge-base-en-v1.5. Caching files will still work but in a degraded version that might require more space on your disk. This warning can be disabled by setting the `HF_HUB_DISABLE_SYMLINKS_WARNING` environment variable. For more details, see https://huggingface.co/docs/huggingface_hub/how-to-cache#limitations.\n",
      "To support symlinks on Windows, you either need to activate Developer Mode or to run Python as an administrator. In order to activate developer mode, see this article: https://docs.microsoft.com/en-us/windows/apps/get-started/enable-your-device-for-development\n",
      "  warnings.warn(message)\n"
     ]
    }
   ],
   "source": [
    "from langchain.embeddings import HuggingFaceBgeEmbeddings\n",
    "\n",
    "model_name = \"BAAI/bge-base-en-v1.5\"\n",
    "model_kwargs = {\"device\": \"cpu\"}\n",
    "encode_kwargs = {\"normalize_embeddings\": True}\n",
    "\n",
    "embeddings = HuggingFaceBgeEmbeddings(\n",
    "    model_name=model_name,\n",
    "    model_kwargs=model_kwargs,\n",
    "    encode_kwargs=encode_kwargs\n",
    ")"
   ]
  },
  {
   "cell_type": "code",
   "execution_count": 9,
   "id": "497bc01c",
   "metadata": {},
   "outputs": [],
   "source": [
    "vectorstore = Chroma.from_documents(documents=texts[:], embedding=embeddings)"
   ]
  },
  {
   "cell_type": "markdown",
   "id": "8205fd8e-4752-42ef-a86b-8ed104b20fb4",
   "metadata": {},
   "source": [
    "## Retrieval and generation"
   ]
  },
  {
   "cell_type": "markdown",
   "id": "9ea13320-7a7d-4a0b-bb5a-6c1013531a17",
   "metadata": {},
   "source": [
    "1. Retrieve: Given a user input, relevant splits are retrieved from storage using a Retriever.\n",
    "2. Generate: A ChatModel / LLM produces an answer using a prompt that includes the question and the retrieved data\n",
    "\n",
    "Ref - https://python.langchain.com/docs/tutorials/rag/]"
   ]
  },
  {
   "cell_type": "markdown",
   "id": "cfd52201-3ef8-4a55-8a4b-848fd61c748b",
   "metadata": {},
   "source": [
    "![title](./imgs/retrieval.png)"
   ]
  },
  {
   "cell_type": "code",
   "execution_count": 10,
   "id": "67f1323d-a757-45bd-ab80-524e226eaa05",
   "metadata": {},
   "outputs": [],
   "source": [
    "question = \"what is SCBX's 2025 Sustainability Targets\""
   ]
  },
  {
   "cell_type": "code",
   "execution_count": 11,
   "id": "0ccdcfc2-cd6e-4628-8f8f-9883a32afb5c",
   "metadata": {},
   "outputs": [],
   "source": [
    "retriever = vectorstore.as_retriever(search_type=\"similarity\", search_kwargs={\"k\": 5})"
   ]
  },
  {
   "cell_type": "code",
   "execution_count": 12,
   "id": "7e7680e3-612c-414e-8d8d-964bf6b2c5ef",
   "metadata": {},
   "outputs": [],
   "source": [
    "retrieved_docs = retriever.invoke(question)"
   ]
  },
  {
   "cell_type": "code",
   "execution_count": 13,
   "id": "e8399038-e940-436e-bebd-1e2c3d86dcc5",
   "metadata": {},
   "outputs": [
    {
     "data": {
      "text/plain": [
       "Document(metadata={'author': '', 'creationDate': \"D:20240828014004+07'00'\", 'creator': 'Adobe InDesign 19.5 (Macintosh)', 'document_name': 'SCBX-SR2023', 'file_path': './inputs//SCBX-SR2023_ENG.pdf', 'format': 'PDF 1.7', 'keywords': '', 'last_modified_date': 'ENG', 'modDate': \"D:20240828014217+07'00'\", 'page': 13, 'producer': 'Adobe PDF Library 17.0', 'source': './inputs//SCBX-SR2023_ENG.pdf', 'start_index': 2, 'subject': '', 'title': '', 'total_pages': 146, 'trapped': ''}, page_content='2025 Sustainability Targets\\nIn 2023, SCBX Group has set three-year sustainability targets (2023–2025)  \\nto put its sustainability strategy in action. \\n4 Pillars\\nStrategic Goals\\n2025 Target\\n2023 Performance\\nSDGs Target\\nPLANTING\\nDIGITAL SEEDS\\nDigital Solutions and \\nSecurity\\nInvest Baht 14,000 million in digital initiatives \\nand innovations and achieve zero \\ntolerance for information security breaches.\\nBaht 5,773 million invested  and \\ncontinulously strive for zero tolerance for \\ninformation security breaches.\\nDigital Skills of the Future\\nFoster 200,000 employees and other \\npeople to develop and use digital skills      \\nin their careers and businesses.\\n123,696 employees and other people \\ndeveloped AI, analytical thinking, and \\ndigital skills.\\nENRICHING\\nLIVES\\nFinancial and Digital \\nInclusion\\nSupport 4,000,000 underserved people to \\ngain access to personal credit through \\nnew, digital products.\\n1,627,149 underserved people gained \\naccess to financial products and services.\\nSME-Startup-Social (3S) \\nEmpowerment\\nEmpower 2,000,000 individuals and \\n60,000 small businesses to grow and \\nreach their full potential via Baht 5,800 \\nmillion of investment to create positive \\nimpacts. \\n979,674 individuals, 27,743 small businesses \\nare empowered with an investment of \\nBaht 2,918 million baht.\\n14\\n2023 SUSTAINABILITY REPORT \\nOVERVIEW\\nSPECIAL\\nREPORT\\nPLANTING\\nDIGITAL \\nSEEDS\\nENRICHING \\nLIVES\\nGROWING\\nECONOMIC \\nRESILIENCE\\nREACHING\\nCLIMATE\\nNEUTRALITY\\nFOUNDATION\\nFACTBOOK')"
      ]
     },
     "execution_count": 13,
     "metadata": {},
     "output_type": "execute_result"
    }
   ],
   "source": [
    "retrieved_docs[0]"
   ]
  },
  {
   "cell_type": "code",
   "execution_count": 14,
   "id": "d956e1ab-3867-4b1e-97f3-3ce77c9e8e3e",
   "metadata": {},
   "outputs": [
    {
     "data": {
      "text/plain": [
       "'2025 Sustainability Targets\\nIn 2023, SCBX Group has set three-year sustainability targets (2023–2025)  \\nto put its sustainability strategy in action. \\n4 Pillars\\nStrategic Goals\\n2025 Target\\n2023 Performance\\nSDGs Target\\nPLANTING\\nDIGITAL SEEDS\\nDigital Solutions and \\nSecurity\\nInvest Baht 14,000 million in digital initiatives \\nand innovations and achieve zero \\ntolerance for information security breaches.\\nBaht 5,773 million invested  and \\ncontinulously strive for zero tolerance for \\ninformation security breaches.\\nDigital Skills of the Future\\nFoster 200,000 employees and other \\npeople to develop and use digital skills      \\nin their careers and businesses.\\n123,696 employees and other people \\ndeveloped AI, analytical thinking, and \\ndigital skills.\\nENRICHING\\nLIVES\\nFinancial and Digital \\nInclusion\\nSupport 4,000,000 underserved people to \\ngain access to personal credit through \\nnew, digital products.\\n1,627,149 underserved people gained \\naccess to financial products and services.\\nSME-Startup-Social (3S) \\nEmpowerment\\nEmpower 2,000,000 individuals and \\n60,000 small businesses to grow and \\nreach their full potential via Baht 5,800 \\nmillion of investment to create positive \\nimpacts. \\n979,674 individuals, 27,743 small businesses \\nare empowered with an investment of \\nBaht 2,918 million baht.\\n14\\n2023 SUSTAINABILITY REPORT \\nOVERVIEW\\nSPECIAL\\nREPORT\\nPLANTING\\nDIGITAL \\nSEEDS\\nENRICHING \\nLIVES\\nGROWING\\nECONOMIC \\nRESILIENCE\\nREACHING\\nCLIMATE\\nNEUTRALITY\\nFOUNDATION\\nFACTBOOK'"
      ]
     },
     "execution_count": 14,
     "metadata": {},
     "output_type": "execute_result"
    }
   ],
   "source": [
    "retrieved_docs[0].page_content"
   ]
  },
  {
   "cell_type": "code",
   "execution_count": 23,
   "id": "7221c3d6-3045-4768-abe3-8b6dbf156452",
   "metadata": {},
   "outputs": [],
   "source": [
    "PROMPT_TEMPLATE = \"\"\"\n",
    "    Use the following context (delimited by <ctx></ctx>) to answer the question. \n",
    "    Use the context to provide the answer only. \n",
    "    ------\n",
    "    <ctx>\n",
    "    {context}\n",
    "    </ctx>\n",
    "    ------\n",
    "    {question}\n",
    "    Answer:\n",
    "\n",
    "\"\"\"\n",
    "\n",
    "custom_rag_prompt = PromptTemplate.from_template(template=PROMPT_TEMPLATE)\n",
    "\n",
    "llm = AzureChatOpenAI(\n",
    "    azure_deployment=os.getenv(\"AZURE_OPENAI_CHAT_DEPLOYMENT_NAME\"),\n",
    "    api_version=os.getenv(\"AZURE_OPENAI_API_VERSION\"), \n",
    "    temperature=0,\n",
    "    max_tokens=None,\n",
    "    timeout=None,\n",
    "    max_retries=2,\n",
    ")\n",
    "\n",
    "# Replace with ChatOpenAI if you have access to OpenAI API\n",
    "# llm = ChatOpenAI(model_name='gpt-4o', temperature=0, streaming=True, api_key=os.environ[\"OPENAI_API_KEY\"])"
   ]
  },
  {
   "cell_type": "code",
   "execution_count": 24,
   "id": "ae098c62-d27a-42cf-b447-cd529caa4b52",
   "metadata": {},
   "outputs": [],
   "source": [
    "\"\"\"\n",
    "We’ll use the LCEL Runnable protocol to define the chain, allowing us to\n",
    "\n",
    "pipe together components and functions in a transparent way\n",
    "automatically trace our chain in LangSmith\n",
    "get streaming, async, and batched calling out of the box.\n",
    "\"\"\"\n",
    "\n",
    "def format_docs(docs):\n",
    "    return \"\\n\\n\".join(doc.page_content for doc in docs)\n",
    "    \n",
    "chain = (\n",
    "        {\"context\": retriever | format_docs, \"question\": RunnablePassthrough()}\n",
    "        | custom_rag_prompt\n",
    "        | llm\n",
    "        | StrOutputParser()\n",
    ")"
   ]
  },
  {
   "cell_type": "code",
   "execution_count": 25,
   "id": "d5ee844d-904a-4060-866e-609b113164ee",
   "metadata": {},
   "outputs": [],
   "source": [
    "questions = [\n",
    "    \"What is the reduction in scope 1 and scope 2 emissions that SCB achieved in 2023?\",\n",
    "    \"What share of SCBX's total revenue was powered by AI in 2023?\",\n",
    "    \"What is SCBX's 2025 financial support target for 'Net Zero financed emissions' for scope 3 emissions?\",\n",
    "    \"Can you summarize what SCBX is doing to improve financial and digital literacy?\",\n",
    "    \"What has been Thailand's share of economic loss from extreme climate events between 2000 to 2019?\",\n",
    "    \"What are SCBX's scope 1 and 2 emissions for year 2023 and how much reduction have we seen from the year before?\",\n",
    "    \"What is SCBX's scope 3 emissions baseline, which year was it measured in, and what are the top 3 sectors that fall under this category?\"\n",
    "]\n",
    "\n",
    "result = []"
   ]
  },
  {
   "cell_type": "code",
   "execution_count": 26,
   "id": "22ff6ddc-ef4e-4a5e-acd3-a483f1bad4a6",
   "metadata": {},
   "outputs": [
    {
     "name": "stdout",
     "output_type": "stream",
     "text": [
      "SCB achieved a 7% reduction in scope 1 and scope 2 emissions in 2023.\n",
      "20% of SCBX's total revenue was powered by AI in 2023.\n",
      "Baht 100,000 million.\n",
      "SCBX Group is committed to improving financial and digital literacy by delivering affordable and accessible financial solutions, focusing on empowering underserved groups, and leveraging technology to enhance financial inclusion. They collaborate with leading partners to broaden financial service channels, promote job and income opportunities, and nurture financial literacy and discipline. Additionally, SCBX aims to cultivate digital skills among employees and society, partnering with world-class AI and technology firms to enhance skills in AI, data analytics, critical thinking, and digital technology. Their 2025 targets include broadening financial access to 4 million underserved customers and nurturing digital skills for 200,000 employees and people in society.\n",
      "Thailand's share of economic loss from extreme climate events between 2000 to 2019 was around USD 7.7 billion.\n",
      "SCBX's scope 1 and 2 emissions for the year 2023 amounted to 65,384 tonnes of carbon dioxide equivalent. This represents a 7% reduction compared to the year 2022.\n",
      "SCBX's scope 3 emissions baseline is 7.3 million tonnes of carbon dioxide equivalent, measured in 2021. The top 3 sectors that fall under this category are the power sector (56%), the corporate portfolio (13%), and the SME portfolio (82%).\n"
     ]
    }
   ],
   "source": [
    "for question in questions:\n",
    "    answer = chain.invoke(question)\n",
    "    print(answer)\n",
    "    result.append(answer)"
   ]
  },
  {
   "cell_type": "code",
   "execution_count": 27,
   "id": "69adcbe0-6a38-4ae0-b5ae-9d33511304d3",
   "metadata": {},
   "outputs": [
    {
     "name": "stdout",
     "output_type": "stream",
     "text": [
      "SCBX's 2025 Sustainability Targets are:\n",
      "\n",
      "1. **Digital Solutions and Security**: Invest Baht 14,000 million in digital initiatives and innovations and achieve zero tolerance for information security breaches.\n",
      "2. **Digital Skills of the Future**: Foster 200,000 employees and other people to develop and use digital skills in their careers and businesses.\n",
      "3. **Financial and Digital Inclusion**: Support 4,000,000 underserved people to gain access to personal credit through new, digital products.\n",
      "4. **SME-Startup-Social (3S) Empowerment**: Empower 2,000,000 individuals and 60,000 small businesses to grow and reach their full potential via Baht 5,800 million of investment to create positive impacts.\n",
      "5. **Funding for Low-Carbon Transition and SDGs**: Provide Baht 100,000 million of funding to clients engaging in low-carbon transition and promoting SDGs.\n",
      "6. **Net Zero in Own Operations**: Achieve net zero in own operations (Scope 1 and 2) by 2030.\n",
      "7. **Net Zero in Financed Emissions**: Achieve net zero in financed emissions (Scope 3) by 2050.\n"
     ]
    }
   ],
   "source": [
    "print(chain.invoke(\"what is SCBX's 2025 Sustainability Targets\"))"
   ]
  },
  {
   "cell_type": "code",
   "execution_count": 28,
   "id": "eaf3480f-6eff-4ed3-b7c1-30eabfe56abb",
   "metadata": {},
   "outputs": [],
   "source": [
    "result_df = pd.DataFrame({\n",
    "    \"question\": questions,\n",
    "    \"answers\": result\n",
    "})"
   ]
  },
  {
   "cell_type": "code",
   "execution_count": 29,
   "id": "42106139-4cc0-46fc-b733-81b5a0550dde",
   "metadata": {},
   "outputs": [
    {
     "data": {
      "text/html": [
       "<div>\n",
       "<style scoped>\n",
       "    .dataframe tbody tr th:only-of-type {\n",
       "        vertical-align: middle;\n",
       "    }\n",
       "\n",
       "    .dataframe tbody tr th {\n",
       "        vertical-align: top;\n",
       "    }\n",
       "\n",
       "    .dataframe thead th {\n",
       "        text-align: right;\n",
       "    }\n",
       "</style>\n",
       "<table border=\"1\" class=\"dataframe\">\n",
       "  <thead>\n",
       "    <tr style=\"text-align: right;\">\n",
       "      <th></th>\n",
       "      <th>question</th>\n",
       "      <th>answers</th>\n",
       "    </tr>\n",
       "  </thead>\n",
       "  <tbody>\n",
       "    <tr>\n",
       "      <th>0</th>\n",
       "      <td>What is the reduction in scope 1 and scope 2 e...</td>\n",
       "      <td>SCB achieved a 7% reduction in scope 1 and sco...</td>\n",
       "    </tr>\n",
       "    <tr>\n",
       "      <th>1</th>\n",
       "      <td>What share of SCBX's total revenue was powered...</td>\n",
       "      <td>20% of SCBX's total revenue was powered by AI ...</td>\n",
       "    </tr>\n",
       "    <tr>\n",
       "      <th>2</th>\n",
       "      <td>What is SCBX's 2025 financial support target f...</td>\n",
       "      <td>Baht 100,000 million.</td>\n",
       "    </tr>\n",
       "    <tr>\n",
       "      <th>3</th>\n",
       "      <td>Can you summarize what SCBX is doing to improv...</td>\n",
       "      <td>SCBX Group is committed to improving financial...</td>\n",
       "    </tr>\n",
       "    <tr>\n",
       "      <th>4</th>\n",
       "      <td>What has been Thailand's share of economic los...</td>\n",
       "      <td>Thailand's share of economic loss from extreme...</td>\n",
       "    </tr>\n",
       "    <tr>\n",
       "      <th>5</th>\n",
       "      <td>What are SCBX's scope 1 and 2 emissions for ye...</td>\n",
       "      <td>SCBX's scope 1 and 2 emissions for the year 20...</td>\n",
       "    </tr>\n",
       "    <tr>\n",
       "      <th>6</th>\n",
       "      <td>What is SCBX's scope 3 emissions baseline, whi...</td>\n",
       "      <td>SCBX's scope 3 emissions baseline is 7.3 milli...</td>\n",
       "    </tr>\n",
       "  </tbody>\n",
       "</table>\n",
       "</div>"
      ],
      "text/plain": [
       "                                            question  \\\n",
       "0  What is the reduction in scope 1 and scope 2 e...   \n",
       "1  What share of SCBX's total revenue was powered...   \n",
       "2  What is SCBX's 2025 financial support target f...   \n",
       "3  Can you summarize what SCBX is doing to improv...   \n",
       "4  What has been Thailand's share of economic los...   \n",
       "5  What are SCBX's scope 1 and 2 emissions for ye...   \n",
       "6  What is SCBX's scope 3 emissions baseline, whi...   \n",
       "\n",
       "                                             answers  \n",
       "0  SCB achieved a 7% reduction in scope 1 and sco...  \n",
       "1  20% of SCBX's total revenue was powered by AI ...  \n",
       "2                              Baht 100,000 million.  \n",
       "3  SCBX Group is committed to improving financial...  \n",
       "4  Thailand's share of economic loss from extreme...  \n",
       "5  SCBX's scope 1 and 2 emissions for the year 20...  \n",
       "6  SCBX's scope 3 emissions baseline is 7.3 milli...  "
      ]
     },
     "execution_count": 29,
     "metadata": {},
     "output_type": "execute_result"
    }
   ],
   "source": [
    "result_df"
   ]
  },
  {
   "cell_type": "markdown",
   "id": "8b7daaa9-194a-4a35-bff2-1ef14b5b5e95",
   "metadata": {},
   "source": [
    "## Return Sources"
   ]
  },
  {
   "cell_type": "code",
   "execution_count": 30,
   "id": "1b5fb3e8-04e4-4ed9-877b-6bdb37cdd96a",
   "metadata": {},
   "outputs": [],
   "source": [
    "from typing import List\n",
    "from typing_extensions import Annotated, TypedDict\n",
    "from langchain_core.runnables import RunnableParallel"
   ]
  },
  {
   "cell_type": "code",
   "execution_count": 50,
   "id": "2608bf5c",
   "metadata": {},
   "outputs": [],
   "source": [
    "PROMPT_TEMPLATE = \"\"\"\n",
    "    Use the following context (delimited by <ctx></ctx>) to answer the question. \n",
    "    Use the context to provide the answer only. \n",
    "    ------\n",
    "    <ctx>\n",
    "    {context}\n",
    "    </ctx>\n",
    "    ------\n",
    "    {question}\n",
    "    Answer:\n",
    "\n",
    "\"\"\"\n",
    "\n",
    "custom_rag_prompt = PromptTemplate.from_template(template=PROMPT_TEMPLATE)"
   ]
  },
  {
   "cell_type": "code",
   "execution_count": null,
   "id": "fef442b1",
   "metadata": {},
   "outputs": [
    {
     "data": {
      "text/plain": [
       "{'question': \"What is SCBX's financed emissions baseline, which year was it measured in?\",\n",
       " 'context': [Document(metadata={'author': '', 'creationDate': \"D:20240828014004+07'00'\", 'creator': 'Adobe InDesign 19.5 (Macintosh)', 'document_name': 'SCBX-SR2023', 'file_path': './inputs//SCBX-SR2023_ENG.pdf', 'format': 'PDF 1.7', 'keywords': '', 'last_modified_date': 'ENG', 'modDate': \"D:20240828014217+07'00'\", 'page': 96, 'producer': 'Adobe PDF Library 17.0', 'source': './inputs//SCBX-SR2023_ENG.pdf', 'start_index': 0, 'subject': '', 'title': '', 'total_pages': 146, 'trapped': ''}, page_content='2021  Financed Emissions (scope 3, category 15)1 by Sector, MtCO2\\n0.4\\nRetail\\n% Financed\\nEmissions\\n100%\\n8%\\n10%\\n82%\\n56%\\n2%\\n1%\\n13%\\n2%\\n2%\\n1%\\n5%\\nSCB\\nLending \\nPortfolio\\nMortgages\\nCorporate\\nPortfolio\\nPower\\nEnergy\\n(Fossil Fuel)\\nHospitality & \\nReal Estate\\nMetal\\nIndustrial\\nChemicals &\\nRaw Materials\\nAgricultural\\nProducts & \\nCommodities\\nFood & \\nBeverage\\nOthers2\\nFinanced\\nEmissions\\n(MtCO2)\\nCorp\\nSME\\n7.3\\n0.6\\n6.0\\n0.7\\n0.70\\n1.0\\n0.1\\n0.1\\n0.1\\n0.1\\n0.1\\n4.1\\n0.6\\nSME\\n6.0\\nFinanced Emission Target Setting \\nSCBX and SCB worked together to identify a net zero pathway following the SBTi guidelines, \\nbecoming the first financial institution in Thailand to commit to a SBTi-aligned net zero target. \\nThe Sectoral Decarbonization Approach (SDA) has been applied to set emission intensity \\nreduction targets for credit portfolios in the electricity sector, and Implied Temperature Rise (ITR) \\napproach, a collaborative effort by CDP and WWF, for portfolio temperature rating covering \\nindustries and asset types as outlined in the Financial Sector Science-based Targets Guidance \\nby SBTi. Furthermore, SCBX and SCB have employed the Portfolio Alignment Toolkit (PAT) to \\nassess emission baselines and set reduction targets using the SDA method. The SCBX Group \\npathways to net zero emissions are being approved by SCB’s Board of Directors, It’s expected to \\nbe publicly disclosed in 2024.\\nFinanced Emissions Measurement \\nSCBX and SCB conducted GHG accounting in accordance with the Partnership for Carbon \\nAccounting Financials (PCAF)—an international standard for financial institutions in the annual \\naccounting and disclosure of GHG emissions associated with financial services. The PCAF \\nstandard also aligns with the Science Based Targets initiative (SBTi), a global collaborative \\nproject supporting businesses and financial institutions to set GHGs reduction targets consistent \\nwith the latest climate science and the Paris Agreement.\\nBased on the above-mentioned framework, the credit portfolio assessment of SCB wholesale \\nbanking businesses and SME clients in 2021 found that the Bank’s financed emissions baseline \\nwas at 7.3 million tonnes of carbon dioxide equivalent— 56% of which came from the power \\nsector. \\nRemark:\\n1\\t\\nThe amount of calculated financed emissions include scope 1 and scope 2 emissions of customers.\\n2\\t\\nOthers include retail and wholesale trade, motor vehicles and parts, electronics and electronic components, construction, transportation and logistics, rice and rice products, \\ntelecommunications and media, financial institutions, and others.\\n97\\n2023 SUSTAINABILITY REPORT \\nOVERVIEW\\nSPECIAL\\nREPORT\\nREACHING\\nCLIMATE\\nNEUTRALITY\\nFOUNDATION\\nFACTBOOK\\nPLANTING\\nDIGITAL \\nSEEDS\\nENRICHING \\nLIVES\\nGROWING\\nECONOMIC \\nRESILIENCE'),\n",
       "  Document(metadata={'author': '', 'creationDate': \"D:20240828014004+07'00'\", 'creator': 'Adobe InDesign 19.5 (Macintosh)', 'document_name': 'SCBX-SR2023', 'file_path': './inputs//SCBX-SR2023_ENG.pdf', 'format': 'PDF 1.7', 'keywords': '', 'last_modified_date': 'ENG', 'modDate': \"D:20240828014217+07'00'\", 'page': 39, 'producer': 'Adobe PDF Library 17.0', 'source': './inputs//SCBX-SR2023_ENG.pdf', 'start_index': 0, 'subject': '', 'title': '', 'total_pages': 146, 'trapped': ''}, page_content='2023\\n2025\\n2027\\n2028\\n2030\\nTarget\\n04\\nClimate-related Metrics and Targets\\nSCBX Group aspires to be a part of global efforts to limit the rise in average temperature within \\nthe Paris Agreement threshold of 1.5°C. We have set ambitious targets to reach net zero in our \\nown’s operations (Scope 1 and 2) by 2030 and net zero in financed emissions (Scope 3) by 2050.\\nAs the first financial institution in Thailand to declare the net zero ambition that builds on a \\nscience-based methodology, SCBX pursues the SBTi-aligned goals to mitigate GHGs emissions \\nand support all stakeholders in the transition to a low-carbon economy.\\nSCOPE 1 AND 2\\nSCOPE 3 \\n(NET ZERO FINANCED \\nEMISSIONS)\\nNet Zero in own’s \\noperations by \\n2030\\nEstablish a baseline  \\nand GHGs emissions \\nmitigation strategy\\nProvide financial \\nsupport of Baht  \\n100,000  \\nmillion \\nto businesses and \\nprojects that mitigate  \\nor adapt to climate \\nchange impacts\\nProvide financial \\nsupport of Baht \\n200,000 \\nmillion \\nto businesses and \\nprojects that mitigate or \\nadapt to climate \\nchange impacts\\n100% \\nelectricity from \\nrenewable sources\\n100% \\nEV adoption\\nReduce GHGs  \\nemissions by \\n50% \\nfrom 2023\\n100% \\nadoption of R32 \\nrefrigerant air \\nconditioners\\nReduce GHGs  \\nemissions by  \\n5%  \\nfrom 2022\\nNet Zero in lending  \\nand investment by \\n2050\\n40\\n2023 SUSTAINABILITY REPORT \\nOVERVIEW\\nSPECIAL\\nREPORT\\nPLANTING\\nDIGITAL \\nSEEDS\\nENRICHING \\nLIVES\\nGROWING\\nECONOMIC \\nRESILIENCE\\nREACHING\\nCLIMATE\\nNEUTRALITY\\nFOUNDATION\\nFACTBOOK'),\n",
       "  Document(metadata={'author': '', 'creationDate': \"D:20240828014004+07'00'\", 'creator': 'Adobe InDesign 19.5 (Macintosh)', 'document_name': 'SCBX-SR2023', 'file_path': './inputs//SCBX-SR2023_ENG.pdf', 'format': 'PDF 1.7', 'keywords': '', 'last_modified_date': 'ENG', 'modDate': \"D:20240828014217+07'00'\", 'page': 40, 'producer': 'Adobe PDF Library 17.0', 'source': './inputs//SCBX-SR2023_ENG.pdf', 'start_index': 0, 'subject': '', 'title': '', 'total_pages': 146, 'trapped': ''}, page_content='Towards Net Zero\\nSCBX Group continues to reduce GHG emissions from its business activities through \\nvarious initiatives. These include enhancing energy efficiency, installing HVAC systems in \\nbuildings, promoting the use of renewable energy, transforming to electric vehicles, and \\nimplementing the Work from Anywhere policy. SCBX Group achieved its target of reducing \\nGHGs emissions from own’s operations by 7% in 2023.\\nAt the same time, SCBX recognizes an urgent need to address the Scope 3 Category 15 \\nemissions (Financed Emissions), which account for 99% of total GHGs emissions of SCBX \\nGroup (Scope 1, 2, and 3 (category 15). In 2023, SCBX and SCB compiled a GHGs inventory \\nand emission data in the base-case scenario, following the Partnership for Carbon \\nAccounting Financials (PCAF) standards. In doing so, we aim to measure GHGs emissions \\nfrom each industry in the Bank’s credit portfolio and design the well-suited net zero \\nroadmap. Our first priority are the heavy industries and sectors most impacted by GHGs \\nemissions.  The assessment outcome showed that the power sector made up the credit \\nexposure at 9% and contributed the largest share of environmental footprints at 56%. The \\napproximated emissions cover only upstream businesses (e.g., electricity generation) and \\nScope 1 and 2 emissions. The midstream (e.g., transmission and distribution) and \\ndownstream businesses (e.g., sale of electric power) are excluded from the assessment, \\ngiven that electricity generation is the largest source of GHG emissions due to fossil fuel \\ncombustion (oil, natural gas, coal, etc.)\\nThe assessment results subsequently informed a net zero pathway for the electricity \\nsector, in accordance with the Sector Decarbonization Approach (SDA) and with the \\nImplied Temperature Rise (ITR) for other sectors. The pathway is being reviewed and \\napproved by the SCBX’s and SCB’s Board of Directors. It is expected to be publicly \\ncommunicated in 2024.  \\n[For more information on 2023 performance, \\nplease see ‘Net Zero Emission and Climate Technology’ on page  93-99]\\nFurthermore, in 2023 SCB supported businesses and projects aimed at mitigating the \\nimpact of climate change or adapting to it through financial support, financial advisory \\nservices, and sustainable investments, totaling Baht 161,090 million.\\n[For more information on 2023 performance, \\nplease see ‘Sustainable Finance’ chapter on page 87-91]\\n41\\n2023 SUSTAINABILITY REPORT \\nOVERVIEW\\nSPECIAL\\nREPORT\\nPLANTING\\nDIGITAL \\nSEEDS\\nENRICHING \\nLIVES\\nGROWING\\nECONOMIC \\nRESILIENCE\\nREACHING\\nCLIMATE\\nNEUTRALITY\\nFOUNDATION\\nFACTBOOK'),\n",
       "  Document(metadata={'author': '', 'creationDate': \"D:20240828014004+07'00'\", 'creator': 'Adobe InDesign 19.5 (Macintosh)', 'document_name': 'SCBX-SR2023', 'file_path': './inputs//SCBX-SR2023_ENG.pdf', 'format': 'PDF 1.7', 'keywords': '', 'last_modified_date': 'ENG', 'modDate': \"D:20240828014217+07'00'\", 'page': 93, 'producer': 'Adobe PDF Library 17.0', 'source': './inputs//SCBX-SR2023_ENG.pdf', 'start_index': 0, 'subject': '', 'title': '', 'total_pages': 146, 'trapped': ''}, page_content=\"Year\\n2023\\n2024\\n2027\\n2030\\n5\\nfrom 2022\\n10\\n50\\nFrom the base year 2023\\nNet Zero\\nYear\\n2023\\n2020\\n10,027\\n48,678\\n2021\\n8,039\\n42,430\\n2022\\n7,514\\n62,643\\n11,518\\n53,866\\nScope 1\\nScope 2\\n2023\\n2024\\n2025\\n2026\\n2027\\n55%\\n13%\\n73%\\n88%\\n100%\\n0.4%\\n2023\\n2028\\n2024\\n0.6%\\n2025\\n5%\\n2026\\n30%\\n100%\\n2027\\n86%\\nKey Performance in 2023\\nSCBX is the first financial technology group in Thailand to announce a science-based net zero \\ntarget by 2050, aligning with the methodologies specified by the Science Based Targets initiative \\n(SBTi). Our timeframe for achieving the goal also precedes Thailand’s national target, which is \\nset to beachieve by 2065. This is a challenging mission that SCBX is ready to put efforts into \\nelevating internal management while navigating our clients and stakeholders through the \\nclimate crisis.\\n01\\nBecome a Net Zero Fintech by  \\nMitigating Operational GHGs emissions\\nSCBX Group continues to manage environmental impacts resulted from our business activity, \\nwhile actively seeking innovative approaches to alleviate adverse effects and contribute to \\npositive changes.\\nIn 2023, SCBX Group’s operational GHGs emissions (Scope 1 and 2) amounted to 65,384 tonnes \\nof carbon dioxide equivalent, meeting our targeted 7% reduction equivalent compared to 2022.\\nScope 1 and 2 GHG emissions reduction target (%)\\nOperational Net Zero Initiatives\\nScope 1 and 2 GHG emissions reduction performance\\n(Unit : Tonnes of carbon dioxide equivalent)\\nTo achieve the Operational Net Zero by 2030, SCBX Group has implemented a wide range \\nof initiatives to reduce GHG emissions from our own's operations and outlined mid- and \\nlong-term roadmaps for future initiatives, including: \\nScope 1\\nShifting to R32 refrigerant air conditioners\\nSCBX Group plans to replace 3,017 units of R22 air conditioners at the head office and \\nSCB branches nationwide with R32 air refrigerant which have low global warming \\npotential (GWP) and no destructive impact on the ozone layer. The company upgraded \\n400 air conditioning units in 2023, or 13% of the targeted replacements.\\nTransitioning to Electric Vehicle (EV)\\nThe combustion of gasoline and diesel fuel from internal combustion engine vehicles is \\namong the sources of SCBX’s own's GHG emissions. The company thus targets the 100% \\nelectric vehicle  adoption by 2028. In 2023, SCB developed a long-term plan to replace \\n1,608 units of their vehicle fleets with EVs. \\n94\\n2023 SUSTAINABILITY REPORT \\nOVERVIEW\\nSPECIAL\\nREPORT\\nREACHING\\nCLIMATE\\nNEUTRALITY\\nFOUNDATION\\nFACTBOOK\\nPLANTING\\nDIGITAL \\nSEEDS\\nENRICHING \\nLIVES\\nGROWING\\nECONOMIC \\nRESILIENCE\"),\n",
       "  Document(metadata={'author': '', 'creationDate': \"D:20240828014004+07'00'\", 'creator': 'Adobe InDesign 19.5 (Macintosh)', 'document_name': 'SCBX-SR2023', 'file_path': './inputs//SCBX-SR2023_ENG.pdf', 'format': 'PDF 1.7', 'keywords': '', 'last_modified_date': 'ENG', 'modDate': \"D:20240828014217+07'00'\", 'page': 30, 'producer': 'Adobe PDF Library 17.0', 'source': './inputs//SCBX-SR2023_ENG.pdf', 'start_index': 0, 'subject': '', 'title': '', 'total_pages': 146, 'trapped': ''}, page_content='Co2 Pathway\\nCO2\\nTemperature \\nPathway\\nํ F\\nPhysical\\nRisk\\nFinancial\\nImpact\\nB\\nCarbon Tax, \\nOther Climate \\nPolicy\\nB\\nClimate \\nChange\\nScenarios\\nํ F\\nClimate Scenario Analysis \\nSCBX conducts the climate impact assessment under multiple scenarios to understand the \\nlevels of risk and severity, as well as potential opportunities for our business operations—\\nparticularly the lending portfolio of the banking business.\\nIn 2020, SCB worked with an external consultant to study physical and transition risks associated \\nwith climate change. We adopted frameworks and tools under TCFD’s recommendation to \\ndevelop assumptions and climate-change scenarios, based on the approximated GHGs \\nemissions of each industry and the projected global temperature increase—which is the source \\nof physical climate risks.  By doing so, the Bank can anticipate regulatory and policy changes \\nwhile formulating preventive measures. The assessment also enables us to accurately develop \\nquantitative model assumptions in order to gauge impacts on the commercial credit portfolio \\nand overall banking business, as well as the potential defaults of corporate clients at greater \\nrisks from climate change.\\nIn 2023, SCBX worked with an external consultant to develop the credit exposure model \\nillustrating all clients in the SCB portfolio in the year 2021 (Baseline Year) . The model helps us \\nexamine and compare GHGs scope 1 and 2 of financed emissions across different sectors.  \\nThe analysis informed that power (9% of credit exposure) was responsible for the largest \\nenvironmental footprints with a financed emission ratio of 56%, \\nThe assessment outcome enables SCBX and SCB to be mindful of  the evolving regulatory \\nlandscape and transition risks associated with GHG emission control measures. Some \\nanticipated regulations include a carbon tax and the Carbon Border Adjustment Mechanism \\n(CBAM), which will directly affect our clients. In response to such challenges, SCBX strives to \\ndevelop the net zero pathway that best suits clients in each industry. The emissions intensity \\npathway for the  client in the power sector is completed. \\nClimate Change Risks Assessment and Scenario Analysis Flowchart\\n31\\n2023 SUSTAINABILITY REPORT \\nOVERVIEW\\nSPECIAL\\nREPORT\\nPLANTING\\nDIGITAL \\nSEEDS\\nENRICHING \\nLIVES\\nGROWING\\nECONOMIC \\nRESILIENCE\\nREACHING\\nCLIMATE\\nNEUTRALITY\\nFOUNDATION\\nFACTBOOK')],\n",
       " 'answer': \"SCBX's financed emissions baseline was 7.3 million tonnes of carbon dioxide equivalent, measured in 2021.\"}"
      ]
     },
     "execution_count": 53,
     "metadata": {},
     "output_type": "execute_result"
    }
   ],
   "source": [
    "def format_docs(docs):\n",
    "    return \"\\n\\n\".join(doc.page_content for doc in docs)\n",
    "\n",
    "\n",
    "rag_chain_from_docs = (\n",
    "    {\n",
    "        \"question\": lambda x: x[\"question\"],  # input query\n",
    "        \"context\": lambda x: format_docs(x[\"context\"]),  # context\n",
    "    }\n",
    "    | custom_rag_prompt  \n",
    "    | llm  \n",
    "    | StrOutputParser()  \n",
    ")\n",
    "\n",
    "retrieve_docs = (lambda x: x[\"question\"]) | retriever\n",
    "\n",
    "# Below, we chain `.assign` calls. This takes a dict and successively\n",
    "# adds keys-- \"context\" and \"answer\"-- where the value for each key\n",
    "# is determined by a Runnable. The Runnable operates on all existing\n",
    "# keys in the dict.\n",
    "chain = RunnablePassthrough.assign(context=retrieve_docs).assign(\n",
    "    answer=rag_chain_from_docs\n",
    ")\n",
    "\n",
    "chain.invoke({\"question\": \"What is SCBX's financed emissions baseline, which year was it measured in?\"})"
   ]
  },
  {
   "cell_type": "markdown",
   "id": "21be73ce-0907-4e02-8cc4-9b0e12577773",
   "metadata": {},
   "source": [
    "# Filter by Meta Data"
   ]
  },
  {
   "cell_type": "code",
   "execution_count": 55,
   "id": "e9f85a2c",
   "metadata": {},
   "outputs": [],
   "source": [
    "def init_RAG_retrieval(input_pdf_path = './inputs/'):\n",
    "    docs = []\n",
    "    files = os.listdir(input_pdf_path)\n",
    "    files = [x for x in files if x.endswith('.pdf')]\n",
    "    \n",
    "    for file in files:\n",
    "        loader = PyMuPDFLoader(f\"{input_pdf_path}/{file}\")\n",
    "        doc = loader.load()\n",
    "        for _ in doc:\n",
    "            additional_metadata = {\n",
    "                                    \"last_modified_date\": file.split('.')[0].split('_')[1],\n",
    "                                    \"document_name\": file.split('.')[0].split('_')[0],\n",
    "                                }\n",
    "            _.metadata.update(additional_metadata)\n",
    "    \n",
    "        docs = docs + doc\n",
    "    \n",
    "    # Chucking: Split the text into chunks\n",
    "    CHUNK_SIZE = 4000\n",
    "    CHUNK_OVERLAP = 200\n",
    "    \n",
    "    text_splitter = RecursiveCharacterTextSplitter(\n",
    "        chunk_size=CHUNK_SIZE,\n",
    "        chunk_overlap=CHUNK_OVERLAP,\n",
    "        add_start_index=True\n",
    "    )\n",
    "    texts = text_splitter.split_documents(docs)\n",
    "    print(f\"splitted texts with length: {len(texts)}\")\n",
    "    \n",
    "    ## to replace with OpenAIEmbeddings if you have access to OpenAI API\n",
    "    # embeddings = OpenAIEmbeddings(\n",
    "    #     model='text-embedding-ada-002',\n",
    "    #     deployment='text-embedding-ada-002',\n",
    "    # )\n",
    "    \n",
    "    vectorstore = Chroma.from_documents(documents=texts[:], embedding=embeddings)\n",
    "    retriever = vectorstore.as_retriever(search_type=\"similarity\", search_kwargs={\"k\": 5})\n",
    "\n",
    "    return vectorstore, retriever"
   ]
  },
  {
   "cell_type": "code",
   "execution_count": 66,
   "id": "0d1ec9ef-b824-4563-bdf8-7f3071c704e7",
   "metadata": {},
   "outputs": [
    {
     "name": "stdout",
     "output_type": "stream",
     "text": [
      "splitted texts with length: 211\n"
     ]
    }
   ],
   "source": [
    "def create_custom_rag(retriever):\n",
    "    PROMPT_TEMPLATE = \"\"\"\n",
    "        Use the following context (delimited by <ctx></ctx>) to answer the question. \n",
    "        Use the context to provide the answer only. \n",
    "        ------\n",
    "        <ctx>\n",
    "        {context}\n",
    "        </ctx>\n",
    "        ------\n",
    "        {question}\n",
    "        Answer:\n",
    "\n",
    "    \"\"\"\n",
    "\n",
    "    custom_rag_prompt = PromptTemplate.from_template(template=PROMPT_TEMPLATE)\n",
    "    \n",
    "    def format_docs(docs):\n",
    "        return \"\\n\\n\".join(doc.page_content for doc in docs)\n",
    "    \n",
    "    rag_chain = (\n",
    "            {\"context\": retriever | format_docs, \"question\": RunnablePassthrough()}\n",
    "            | custom_rag_prompt\n",
    "            | llm\n",
    "            | StrOutputParser()\n",
    "    )\n",
    "    return rag_chain\n",
    "\n",
    "\n",
    "rag_vectorstore, rag_retrieval = init_RAG_retrieval(input_pdf_path = './inputs/multiple_pdfs/')\n",
    "rag_chain = create_custom_rag(rag_retrieval)"
   ]
  },
  {
   "cell_type": "code",
   "execution_count": 67,
   "id": "27720bd8-bb44-450d-a26a-3e4a2dabd485",
   "metadata": {},
   "outputs": [
    {
     "data": {
      "text/plain": [
       "Document(metadata={'author': '', 'creationDate': \"D:20240828014004+07'00'\", 'creator': 'Adobe InDesign 19.5 (Macintosh)', 'document_name': 'SCBX-SR2023', 'file_path': './inputs//SCBX-SR2023_ENG.pdf', 'format': 'PDF 1.7', 'keywords': '', 'last_modified_date': 'ENG', 'modDate': \"D:20240828014217+07'00'\", 'page': 96, 'producer': 'Adobe PDF Library 17.0', 'source': './inputs//SCBX-SR2023_ENG.pdf', 'start_index': 0, 'subject': '', 'title': '', 'total_pages': 146, 'trapped': ''}, page_content='2021  Financed Emissions (scope 3, category 15)1 by Sector, MtCO2\\n0.4\\nRetail\\n% Financed\\nEmissions\\n100%\\n8%\\n10%\\n82%\\n56%\\n2%\\n1%\\n13%\\n2%\\n2%\\n1%\\n5%\\nSCB\\nLending \\nPortfolio\\nMortgages\\nCorporate\\nPortfolio\\nPower\\nEnergy\\n(Fossil Fuel)\\nHospitality & \\nReal Estate\\nMetal\\nIndustrial\\nChemicals &\\nRaw Materials\\nAgricultural\\nProducts & \\nCommodities\\nFood & \\nBeverage\\nOthers2\\nFinanced\\nEmissions\\n(MtCO2)\\nCorp\\nSME\\n7.3\\n0.6\\n6.0\\n0.7\\n0.70\\n1.0\\n0.1\\n0.1\\n0.1\\n0.1\\n0.1\\n4.1\\n0.6\\nSME\\n6.0\\nFinanced Emission Target Setting \\nSCBX and SCB worked together to identify a net zero pathway following the SBTi guidelines, \\nbecoming the first financial institution in Thailand to commit to a SBTi-aligned net zero target. \\nThe Sectoral Decarbonization Approach (SDA) has been applied to set emission intensity \\nreduction targets for credit portfolios in the electricity sector, and Implied Temperature Rise (ITR) \\napproach, a collaborative effort by CDP and WWF, for portfolio temperature rating covering \\nindustries and asset types as outlined in the Financial Sector Science-based Targets Guidance \\nby SBTi. Furthermore, SCBX and SCB have employed the Portfolio Alignment Toolkit (PAT) to \\nassess emission baselines and set reduction targets using the SDA method. The SCBX Group \\npathways to net zero emissions are being approved by SCB’s Board of Directors, It’s expected to \\nbe publicly disclosed in 2024.\\nFinanced Emissions Measurement \\nSCBX and SCB conducted GHG accounting in accordance with the Partnership for Carbon \\nAccounting Financials (PCAF)—an international standard for financial institutions in the annual \\naccounting and disclosure of GHG emissions associated with financial services. The PCAF \\nstandard also aligns with the Science Based Targets initiative (SBTi), a global collaborative \\nproject supporting businesses and financial institutions to set GHGs reduction targets consistent \\nwith the latest climate science and the Paris Agreement.\\nBased on the above-mentioned framework, the credit portfolio assessment of SCB wholesale \\nbanking businesses and SME clients in 2021 found that the Bank’s financed emissions baseline \\nwas at 7.3 million tonnes of carbon dioxide equivalent— 56% of which came from the power \\nsector. \\nRemark:\\n1\\t\\nThe amount of calculated financed emissions include scope 1 and scope 2 emissions of customers.\\n2\\t\\nOthers include retail and wholesale trade, motor vehicles and parts, electronics and electronic components, construction, transportation and logistics, rice and rice products, \\ntelecommunications and media, financial institutions, and others.\\n97\\n2023 SUSTAINABILITY REPORT \\nOVERVIEW\\nSPECIAL\\nREPORT\\nREACHING\\nCLIMATE\\nNEUTRALITY\\nFOUNDATION\\nFACTBOOK\\nPLANTING\\nDIGITAL \\nSEEDS\\nENRICHING \\nLIVES\\nGROWING\\nECONOMIC \\nRESILIENCE')"
      ]
     },
     "execution_count": 67,
     "metadata": {},
     "output_type": "execute_result"
    }
   ],
   "source": [
    "query = \"What is SCBX's financed emissions baseline, which year was it measured in?\"\n",
    "relevant_documents = ['SCBX_Sustainability Report 2023']\n",
    "\n",
    "# filter for relevant documents\n",
    "search_kwargs = {\"k\": 5}\n",
    "retriever = rag_vectorstore.as_retriever(search_type=\"similarity\", search_kwargs=search_kwargs)\n",
    "\n",
    "# retrieve relevant documents\n",
    "retrieved_docs = retriever.invoke(query)\n",
    "\n",
    "retrieved_docs[0]"
   ]
  },
  {
   "cell_type": "code",
   "execution_count": 68,
   "id": "d22c8e10-173f-4971-ad69-adb8018849be",
   "metadata": {},
   "outputs": [],
   "source": [
    "query = \"What is SCBX's financed emissions baseline, which year was it measured in?\"\n",
    "relevant_documents = ['SCBX Sustainability Report']\n",
    "\n",
    "# filter for relevant documents\n",
    "search_kwargs = {\"k\": 5, \"filter\": {'document_name': {'$in': relevant_documents}}}\n",
    "retriever = rag_vectorstore.as_retriever(search_type=\"similarity\", search_kwargs=search_kwargs)\n",
    "\n",
    "# retrieve relevant documents\n",
    "retrieved_docs = retriever.invoke(query)"
   ]
  },
  {
   "cell_type": "code",
   "execution_count": 69,
   "id": "13a491e6-961d-4157-b2d1-2328cca12794",
   "metadata": {},
   "outputs": [
    {
     "data": {
      "text/plain": [
       "Document(metadata={'author': '', 'creationDate': \"D:20240828014004+07'00'\", 'creator': 'Adobe InDesign 19.5 (Macintosh)', 'document_name': 'SCBX Sustainability Report', 'file_path': './inputs/multiple_pdfs//SCBX Sustainability Report_2023.pdf', 'format': 'PDF 1.7', 'keywords': '', 'last_modified_date': '2023', 'modDate': \"D:20240828014217+07'00'\", 'page': 96, 'producer': 'Adobe PDF Library 17.0', 'source': './inputs/multiple_pdfs//SCBX Sustainability Report_2023.pdf', 'start_index': 0, 'subject': '', 'title': '', 'total_pages': 146, 'trapped': ''}, page_content='2021  Financed Emissions (scope 3, category 15)1 by Sector, MtCO2\\n0.4\\nRetail\\n% Financed\\nEmissions\\n100%\\n8%\\n10%\\n82%\\n56%\\n2%\\n1%\\n13%\\n2%\\n2%\\n1%\\n5%\\nSCB\\nLending \\nPortfolio\\nMortgages\\nCorporate\\nPortfolio\\nPower\\nEnergy\\n(Fossil Fuel)\\nHospitality & \\nReal Estate\\nMetal\\nIndustrial\\nChemicals &\\nRaw Materials\\nAgricultural\\nProducts & \\nCommodities\\nFood & \\nBeverage\\nOthers2\\nFinanced\\nEmissions\\n(MtCO2)\\nCorp\\nSME\\n7.3\\n0.6\\n6.0\\n0.7\\n0.70\\n1.0\\n0.1\\n0.1\\n0.1\\n0.1\\n0.1\\n4.1\\n0.6\\nSME\\n6.0\\nFinanced Emission Target Setting \\nSCBX and SCB worked together to identify a net zero pathway following the SBTi guidelines, \\nbecoming the first financial institution in Thailand to commit to a SBTi-aligned net zero target. \\nThe Sectoral Decarbonization Approach (SDA) has been applied to set emission intensity \\nreduction targets for credit portfolios in the electricity sector, and Implied Temperature Rise (ITR) \\napproach, a collaborative effort by CDP and WWF, for portfolio temperature rating covering \\nindustries and asset types as outlined in the Financial Sector Science-based Targets Guidance \\nby SBTi. Furthermore, SCBX and SCB have employed the Portfolio Alignment Toolkit (PAT) to \\nassess emission baselines and set reduction targets using the SDA method. The SCBX Group \\npathways to net zero emissions are being approved by SCB’s Board of Directors, It’s expected to \\nbe publicly disclosed in 2024.\\nFinanced Emissions Measurement \\nSCBX and SCB conducted GHG accounting in accordance with the Partnership for Carbon \\nAccounting Financials (PCAF)—an international standard for financial institutions in the annual \\naccounting and disclosure of GHG emissions associated with financial services. The PCAF \\nstandard also aligns with the Science Based Targets initiative (SBTi), a global collaborative \\nproject supporting businesses and financial institutions to set GHGs reduction targets consistent \\nwith the latest climate science and the Paris Agreement.\\nBased on the above-mentioned framework, the credit portfolio assessment of SCB wholesale \\nbanking businesses and SME clients in 2021 found that the Bank’s financed emissions baseline \\nwas at 7.3 million tonnes of carbon dioxide equivalent— 56% of which came from the power \\nsector. \\nRemark:\\n1\\t\\nThe amount of calculated financed emissions include scope 1 and scope 2 emissions of customers.\\n2\\t\\nOthers include retail and wholesale trade, motor vehicles and parts, electronics and electronic components, construction, transportation and logistics, rice and rice products, \\ntelecommunications and media, financial institutions, and others.\\n97\\n2023 SUSTAINABILITY REPORT \\nOVERVIEW\\nSPECIAL\\nREPORT\\nREACHING\\nCLIMATE\\nNEUTRALITY\\nFOUNDATION\\nFACTBOOK\\nPLANTING\\nDIGITAL \\nSEEDS\\nENRICHING \\nLIVES\\nGROWING\\nECONOMIC \\nRESILIENCE')"
      ]
     },
     "execution_count": 69,
     "metadata": {},
     "output_type": "execute_result"
    }
   ],
   "source": [
    "retrieved_docs[0]"
   ]
  },
  {
   "cell_type": "markdown",
   "id": "2961344b",
   "metadata": {},
   "source": [
    "## Leverage LLM Classification to build the router chain"
   ]
  },
  {
   "cell_type": "code",
   "execution_count": 70,
   "id": "17409c2c",
   "metadata": {},
   "outputs": [],
   "source": [
    "from langchain.chains.router.multi_prompt_prompt import MULTI_PROMPT_ROUTER_TEMPLATE\n",
    "from langchain.chains.router.llm_router import LLMRouterChain, RouterOutputParser\n",
    "from langchain.prompts import PromptTemplate\n",
    "from langchain_openai import AzureChatOpenAI\n",
    "from langchain_openai import ChatOpenAI"
   ]
  },
  {
   "cell_type": "code",
   "execution_count": 71,
   "id": "a13153c9-3162-42a6-85d6-ef9433f62c3e",
   "metadata": {},
   "outputs": [],
   "source": [
    "question_classification = [\n",
    "  {\n",
    "    \"description\": \"SCBX sustainability, emissions baseline\",\n",
    "    \"relevant_documents\": [ \"SCBX Sustainability Report\" ]\n",
    "  },\n",
    "  {\n",
    "    \"description\": \"questions about Thailand economy, company overview for SCBX, key insights, and 2024 outlook\",\n",
    "    \"relevant_documents\" : [ \"SCBX SET Thailand Focus\" ],\n",
    "  }\n",
    "]"
   ]
  },
  {
   "cell_type": "code",
   "execution_count": 72,
   "id": "5963406d-5b0c-4eef-86a7-0d73ad878907",
   "metadata": {},
   "outputs": [],
   "source": [
    "prompt_templates = []\n",
    "\n",
    "for item in question_classification:\n",
    "    prompt_template = item[\"description\"]\n",
    "    prompt_templates.append(prompt_template)"
   ]
  },
  {
   "cell_type": "code",
   "execution_count": 73,
   "id": "25059a83",
   "metadata": {},
   "outputs": [],
   "source": [
    "prompt_embeddings = embeddings.embed_documents(prompt_templates)\n",
    "\n",
    "def prompt_router(input):\n",
    "    query_embedding = embeddings.embed_query(input[\"query\"])\n",
    "    similarity = cosine_similarity([query_embedding], prompt_embeddings)[0]\n",
    "    most_similar = prompt_templates[similarity.argmax()]\n",
    "    print(f\"The most similar prompt is {similarity.argmax()}\")\n",
    "    return similarity.argmax()"
   ]
  },
  {
   "cell_type": "code",
   "execution_count": 74,
   "id": "e34a2754",
   "metadata": {},
   "outputs": [
    {
     "name": "stdout",
     "output_type": "stream",
     "text": [
      "The most similar prompt is 0\n",
      "0\n"
     ]
    }
   ],
   "source": [
    "print(prompt_router({\"query\": \"What is SCBX's financed emissions baseline, which year was it measured in?\"}))"
   ]
  },
  {
   "cell_type": "code",
   "execution_count": 75,
   "id": "3d7f6131-e1a5-4dd5-918f-4fc36ac0bc7c",
   "metadata": {},
   "outputs": [
    {
     "name": "stdout",
     "output_type": "stream",
     "text": [
      "The most similar prompt is 1\n",
      "1\n"
     ]
    }
   ],
   "source": [
    "print(prompt_router({\"query\": \"what is the executive summary about Thailand's economy\"}))"
   ]
  },
  {
   "cell_type": "code",
   "execution_count": 76,
   "id": "74e443b4-cfb1-43f5-b59d-0745cc1b0bb5",
   "metadata": {},
   "outputs": [],
   "source": [
    "def router_rag(query):\n",
    "    router_idx = prompt_router({\"query\": query})\n",
    "    relevant_documents = question_classification[router_idx].get(\"relevant_documents\")\n",
    "    \n",
    "    # filter for relevant documents\n",
    "    search_kwargs = {\"k\": 5, \"filter\": {'document_name': {'$in': relevant_documents}}}\n",
    "    retriever = rag_vectorstore.as_retriever(search_type=\"similarity\", search_kwargs=search_kwargs)\n",
    "    \n",
    "    # retrieve relevant documents\n",
    "    rag_chain = create_custom_rag(retriever)\n",
    "    \n",
    "    answer = rag_chain.invoke(query)\n",
    "    return answer"
   ]
  },
  {
   "cell_type": "code",
   "execution_count": 77,
   "id": "12573b30-03ff-48ae-944d-5f333595a825",
   "metadata": {},
   "outputs": [
    {
     "name": "stdout",
     "output_type": "stream",
     "text": [
      "The most similar prompt is 0\n"
     ]
    },
    {
     "data": {
      "text/plain": [
       "\"SCBX's financed emissions baseline was 7.3 million tonnes of carbon dioxide equivalent, measured in 2021.\""
      ]
     },
     "execution_count": 77,
     "metadata": {},
     "output_type": "execute_result"
    }
   ],
   "source": [
    "router_rag(query = \"What is SCBX's financed emissions baseline, which year was it measured in?\")"
   ]
  },
  {
   "cell_type": "code",
   "execution_count": 78,
   "id": "9bd15fad-da87-430c-a2b4-91b0bef9086d",
   "metadata": {},
   "outputs": [
    {
     "name": "stdout",
     "output_type": "stream",
     "text": [
      "The most similar prompt is 1\n"
     ]
    },
    {
     "data": {
      "text/plain": [
       "\"Thailand’s economy will slowly rebound to 2.5% in 2024, backed by the service sector alongside a robust rebound in foreign tourist arrivals. However, growth in 2024 will be limited for merchandise exports, while the manufacturing sector and private investment will recover slowly. Despite an expedited disbursement of public investment following an over-six-month delay in the 2024 budget bill, it will not fully offset the previous sharp contraction. In 2025, Thailand's economy will expand moderately by 2.6% (revised down from 2.9%), partly supported by private investment rebound and government disbursement returning to normal levels. However, private consumption will face higher downward pressure from those fragile households. Policy uncertainty remains an additional downside risk. SCB EIC anticipates two MPC rate cuts to 2.25% in late 2024 and 2% in early 2025. Thailand will face heightened economic risks, with tighter financial conditions pressuring growth while households and businesses remain fragile.\""
      ]
     },
     "execution_count": 78,
     "metadata": {},
     "output_type": "execute_result"
    }
   ],
   "source": [
    "router_rag(query = \"what is the executive summary about Thailand's economy?\")"
   ]
  },
  {
   "cell_type": "code",
   "execution_count": null,
   "id": "3716e45b-dbc5-44c2-928b-94b16f9f14f7",
   "metadata": {},
   "outputs": [],
   "source": []
  },
  {
   "cell_type": "code",
   "execution_count": null,
   "id": "7466b0f8-0bad-49ac-a1b9-5981af969926",
   "metadata": {},
   "outputs": [],
   "source": []
  },
  {
   "cell_type": "markdown",
   "id": "734a1ee9-6e92-4b40-a908-aabdf1100a01",
   "metadata": {},
   "source": [
    "# Exercise\n",
    "- Add a tag to meta data as last_modified_date\n",
    "- Retrieve the most recent information using last_modified_date"
   ]
  },
  {
   "cell_type": "code",
   "execution_count": 79,
   "id": "51e1aaca-4aa2-473a-a525-ca19291b3290",
   "metadata": {},
   "outputs": [],
   "source": [
    "def filter_for_max_date_document(relevant_documents):\n",
    "    \"\"\"\n",
    "        filter for the document with the most recent last_modified_date \n",
    "    \"\"\"\n",
    "    return most_recent_relevant_document"
   ]
  },
  {
   "cell_type": "code",
   "execution_count": null,
   "id": "919566b8-0f36-41fb-8252-dec53045237f",
   "metadata": {},
   "outputs": [],
   "source": []
  }
 ],
 "metadata": {
  "kernelspec": {
   "display_name": "scbx",
   "language": "python",
   "name": "scbx"
  },
  "language_info": {
   "codemirror_mode": {
    "name": "ipython",
    "version": 3
   },
   "file_extension": ".py",
   "mimetype": "text/x-python",
   "name": "python",
   "nbconvert_exporter": "python",
   "pygments_lexer": "ipython3",
   "version": "3.10.15"
  }
 },
 "nbformat": 4,
 "nbformat_minor": 5
}
